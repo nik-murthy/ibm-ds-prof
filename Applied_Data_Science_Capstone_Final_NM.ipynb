{
 "cells": [
  {
   "cell_type": "markdown",
   "metadata": {
    "collapsed": true
   },
   "source": [
    "<h1 align=\"center\"><font size=\"5\">Applied Data Science Capstone Final - Nikhil M</font></h1>"
   ]
  },
  {
   "cell_type": "markdown",
   "metadata": {},
   "source": [
    "## Introduction\n",
    "\n",
    "Toronto and New York are the respective financial centers of their countries. In this post, I will examine how similar or dissimilar the two cities are in terms of their constituent neighborhoods. \n",
    "\n",
    "\n",
    "## Business Problem\n",
    "\n",
    "I see this analysis from the perspective of someone working in the financial industry who is contemplating a move from one city to the other. Through this analysis, such a person would be able to move to a neighborhood that is most similar to the one he/she is currently living in."
   ]
  },
  {
   "cell_type": "markdown",
   "metadata": {},
   "source": [
    "## Data\n",
    "\n",
    "The data for this analysis will be acquired through the following sources - \n",
    "\n",
    "* Wikipedia - For the collection of neighbourhoods in Toronto.\n",
    "* NYU Website - Dataset containing the latitude and longitude information for neighbourhoods in NY.\n",
    "* Coursera - Dataset containing the latitude and longitude information for neighbourhoods in Toronto.\n",
    "* FourSquare API - For exploring the vicinity of a given latitude and longitude."
   ]
  },
  {
   "cell_type": "code",
   "execution_count": null,
   "metadata": {},
   "outputs": [],
   "source": []
  }
 ],
 "metadata": {
  "kernelspec": {
   "display_name": "Python 3.5",
   "language": "python",
   "name": "python3"
  },
  "language_info": {
   "codemirror_mode": {
    "name": "ipython",
    "version": 3
   },
   "file_extension": ".py",
   "mimetype": "text/x-python",
   "name": "python",
   "nbconvert_exporter": "python",
   "pygments_lexer": "ipython3",
   "version": "3.5.5"
  }
 },
 "nbformat": 4,
 "nbformat_minor": 1
}
